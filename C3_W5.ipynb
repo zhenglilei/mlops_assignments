{
 "cells": [
  {
   "cell_type": "markdown",
   "id": "7c44737b-9740-4bc4-97df-b3a86cf9534f",
   "metadata": {},
   "source": [
    "# Task 2. Create minimal training and validation data"
   ]
  },
  {
   "cell_type": "code",
   "execution_count": 1,
   "id": "58142a30-8dc0-45e3-a574-c39bdb03340d",
   "metadata": {},
   "outputs": [],
   "source": [
    "import os, json, math, shutil\n",
    "import numpy as np\n",
    "import tensorflow as tf\n",
    "# environment variables used by bash cells\n",
    "PROJECT=!(gcloud config get-value project)\n",
    "PROJECT=PROJECT[0]\n",
    "REGION = 'us-central1'\n",
    "BUCKET='{}-dsongcp'.format(PROJECT)\n",
    "os.environ['ENDPOINT_NAME'] = 'flights'\n",
    "os.environ['BUCKET'] = BUCKET\n",
    "os.environ['REGION'] = REGION\n",
    "os.environ['TF_VERSION']='2-' + tf.__version__[2:3]"
   ]
  },
  {
   "cell_type": "code",
   "execution_count": 4,
   "id": "a7730155-b5e0-4f10-965b-559386bc2fbf",
   "metadata": {},
   "outputs": [
    {
     "data": {
      "application/vnd.jupyter.widget-view+json": {
       "model_id": "eb8e90c13caf43dc94ca37dfa9ae4b12",
       "version_major": 2,
       "version_minor": 0
      },
      "text/plain": [
       "Query is running:   0%|          |"
      ]
     },
     "metadata": {},
     "output_type": "display_data"
    },
    {
     "data": {
      "text/html": [
       "<div>\n",
       "<style scoped>\n",
       "    .dataframe tbody tr th:only-of-type {\n",
       "        vertical-align: middle;\n",
       "    }\n",
       "\n",
       "    .dataframe tbody tr th {\n",
       "        vertical-align: top;\n",
       "    }\n",
       "\n",
       "    .dataframe thead th {\n",
       "        text-align: right;\n",
       "    }\n",
       "</style>\n",
       "<table border=\"1\" class=\"dataframe\">\n",
       "  <thead>\n",
       "    <tr style=\"text-align: right;\">\n",
       "      <th></th>\n",
       "    </tr>\n",
       "  </thead>\n",
       "  <tbody>\n",
       "  </tbody>\n",
       "</table>\n",
       "</div>"
      ],
      "text/plain": [
       "Empty DataFrame\n",
       "Columns: []\n",
       "Index: []"
      ]
     },
     "execution_count": 4,
     "metadata": {},
     "output_type": "execute_result"
    }
   ],
   "source": [
    "%%bigquery\n",
    "CREATE OR REPLACE TABLE dsongcp.flights_train_data AS\n",
    "SELECT\n",
    "  IF(arr_delay < 15, 1.0, 0.0) AS ontime,\n",
    "  dep_delay,\n",
    "  taxi_out,\n",
    "  distance,\n",
    "  origin,\n",
    "  dest,\n",
    "  EXTRACT(hour FROM dep_time) AS dep_hour,\n",
    "  IF (EXTRACT(dayofweek FROM dep_time) BETWEEN 2 AND 6, 1, 0) AS is_weekday,\n",
    "  UNIQUE_CARRIER AS carrier,\n",
    "  dep_airport_lat,\n",
    "  dep_airport_lon,\n",
    "  arr_airport_lat,\n",
    "  arr_airport_lon\n",
    "FROM dsongcp.flights_tzcorr f\n",
    "JOIN dsongcp.trainday t\n",
    "ON f.FL_DATE = t.FL_DATE\n",
    "WHERE\n",
    "  f.CANCELLED = False AND \n",
    "  f.DIVERTED = False AND\n",
    "  is_train_day = 'True'"
   ]
  },
  {
   "cell_type": "code",
   "execution_count": 5,
   "id": "4df1e9bf-fbcf-431f-8933-5c3faeb09b9c",
   "metadata": {},
   "outputs": [
    {
     "data": {
      "application/vnd.jupyter.widget-view+json": {
       "model_id": "11a2ad5a17f34414b2781bdeaeacbb81",
       "version_major": 2,
       "version_minor": 0
      },
      "text/plain": [
       "Query is running:   0%|          |"
      ]
     },
     "metadata": {},
     "output_type": "display_data"
    },
    {
     "data": {
      "text/html": [
       "<div>\n",
       "<style scoped>\n",
       "    .dataframe tbody tr th:only-of-type {\n",
       "        vertical-align: middle;\n",
       "    }\n",
       "\n",
       "    .dataframe tbody tr th {\n",
       "        vertical-align: top;\n",
       "    }\n",
       "\n",
       "    .dataframe thead th {\n",
       "        text-align: right;\n",
       "    }\n",
       "</style>\n",
       "<table border=\"1\" class=\"dataframe\">\n",
       "  <thead>\n",
       "    <tr style=\"text-align: right;\">\n",
       "      <th></th>\n",
       "    </tr>\n",
       "  </thead>\n",
       "  <tbody>\n",
       "  </tbody>\n",
       "</table>\n",
       "</div>"
      ],
      "text/plain": [
       "Empty DataFrame\n",
       "Columns: []\n",
       "Index: []"
      ]
     },
     "execution_count": 5,
     "metadata": {},
     "output_type": "execute_result"
    }
   ],
   "source": [
    "%%bigquery\n",
    "CREATE OR REPLACE TABLE dsongcp.flights_eval_data AS\n",
    "SELECT\n",
    "  IF(arr_delay < 15, 1.0, 0.0) AS ontime,\n",
    "  dep_delay,\n",
    "  taxi_out,\n",
    "  distance,\n",
    "  origin,\n",
    "  dest,\n",
    "  EXTRACT(hour FROM dep_time) AS dep_hour,\n",
    "  IF (EXTRACT(dayofweek FROM dep_time) BETWEEN 2 AND 6, 1, 0) AS is_weekday,\n",
    "  UNIQUE_CARRIER AS carrier,\n",
    "  dep_airport_lat,\n",
    "  dep_airport_lon,\n",
    "  arr_airport_lat,\n",
    "  arr_airport_lon\n",
    "FROM dsongcp.flights_tzcorr f\n",
    "JOIN dsongcp.trainday t\n",
    "ON f.FL_DATE = t.FL_DATE\n",
    "WHERE\n",
    "  f.CANCELLED = False AND \n",
    "  f.DIVERTED = False AND\n",
    "  is_train_day = 'False'"
   ]
  },
  {
   "cell_type": "code",
   "execution_count": 6,
   "id": "0c60f6dc-3859-4c3b-9c92-25ed211bcaed",
   "metadata": {},
   "outputs": [
    {
     "data": {
      "application/vnd.jupyter.widget-view+json": {
       "model_id": "7c7558b0db034fd5a89e45e8d4fc4f20",
       "version_major": 2,
       "version_minor": 0
      },
      "text/plain": [
       "Query is running:   0%|          |"
      ]
     },
     "metadata": {},
     "output_type": "display_data"
    },
    {
     "data": {
      "text/html": [
       "<div>\n",
       "<style scoped>\n",
       "    .dataframe tbody tr th:only-of-type {\n",
       "        vertical-align: middle;\n",
       "    }\n",
       "\n",
       "    .dataframe tbody tr th {\n",
       "        vertical-align: top;\n",
       "    }\n",
       "\n",
       "    .dataframe thead th {\n",
       "        text-align: right;\n",
       "    }\n",
       "</style>\n",
       "<table border=\"1\" class=\"dataframe\">\n",
       "  <thead>\n",
       "    <tr style=\"text-align: right;\">\n",
       "      <th></th>\n",
       "    </tr>\n",
       "  </thead>\n",
       "  <tbody>\n",
       "  </tbody>\n",
       "</table>\n",
       "</div>"
      ],
      "text/plain": [
       "Empty DataFrame\n",
       "Columns: []\n",
       "Index: []"
      ]
     },
     "execution_count": 6,
     "metadata": {},
     "output_type": "execute_result"
    }
   ],
   "source": [
    "%%bigquery\n",
    "CREATE OR REPLACE TABLE dsongcp.flights_all_data AS\n",
    "SELECT\n",
    "  IF(arr_delay < 15, 1.0, 0.0) AS ontime,\n",
    "  dep_delay,\n",
    "  taxi_out,\n",
    "  distance,\n",
    "  origin,\n",
    "  dest,\n",
    "  EXTRACT(hour FROM dep_time) AS dep_hour,\n",
    "  IF (EXTRACT(dayofweek FROM dep_time) BETWEEN 2 AND 6, 1, 0) AS is_weekday,\n",
    "  UNIQUE_CARRIER AS carrier,\n",
    "  dep_airport_lat,\n",
    "  dep_airport_lon,\n",
    "  arr_airport_lat,\n",
    "  arr_airport_lon,\n",
    "  IF (is_train_day = 'True',\n",
    "      IF(ABS(MOD(FARM_FINGERPRINT(CAST(f.FL_DATE AS STRING)), 100)) < 60, 'TRAIN', 'VALIDATE'),\n",
    "      'TEST') AS data_split\n",
    "FROM dsongcp.flights_tzcorr f\n",
    "JOIN dsongcp.trainday t\n",
    "ON f.FL_DATE = t.FL_DATE\n",
    "WHERE\n",
    "  f.CANCELLED = False AND \n",
    "  f.DIVERTED = False"
   ]
  },
  {
   "cell_type": "code",
   "execution_count": 7,
   "id": "4329d8d3-ddc4-4217-a403-09156b942e21",
   "metadata": {},
   "outputs": [
    {
     "name": "stdout",
     "output_type": "stream",
     "text": [
      "Exporting dsongcp.flights_train_data to gs://qwiklabs-gcp-03-2d66d58a98f2-dsongcp/ch9/data/train.csv and deleting table\n",
      "Exporting dsongcp.flights_eval_data to gs://qwiklabs-gcp-03-2d66d58a98f2-dsongcp/ch9/data/eval.csv and deleting table\n",
      "Exporting dsongcp.flights_all_data to gs://qwiklabs-gcp-03-2d66d58a98f2-dsongcp/ch9/data/all.csv and deleting table\n"
     ]
    },
    {
     "name": "stderr",
     "output_type": "stream",
     "text": [
      "Waiting on bqjob_r4b7e7044e9420512_000001855c681f67_1 ... (65s) Current status: DONE   \n",
      "Waiting on bqjob_r36ce24176c50a2ed_000001855c692dcd_1 ... (22s) Current status: DONE   \n",
      "Waiting on bqjob_r15c143e0d406adf2_000001855c699627_1 ... (108s) Current status: DONE   \n"
     ]
    }
   ],
   "source": [
    "%%bash\n",
    "PROJECT=$(gcloud config get-value project)\n",
    "for dataset in \"train\" \"eval\" \"all\"; do\n",
    "  TABLE=dsongcp.flights_${dataset}_data\n",
    "  CSV=gs://${BUCKET}/ch9/data/${dataset}.csv\n",
    "  echo \"Exporting ${TABLE} to ${CSV} and deleting table\"\n",
    "  bq --project_id=${PROJECT} extract --destination_format=CSV $TABLE $CSV\n",
    "  bq --project_id=${PROJECT} rm -f $TABLE\n",
    "done"
   ]
  },
  {
   "cell_type": "code",
   "execution_count": 8,
   "id": "593dfbf2-b291-4967-9687-ed7b7ec37494",
   "metadata": {},
   "outputs": [
    {
     "name": "stdout",
     "output_type": "stream",
     "text": [
      "445.01 MiB  2022-12-29T05:46:32Z  gs://qwiklabs-gcp-03-2d66d58a98f2-dsongcp/ch9/data/all.csv\n",
      "115.19 MiB  2022-12-29T05:44:55Z  gs://qwiklabs-gcp-03-2d66d58a98f2-dsongcp/ch9/data/eval.csv\n",
      "296.96 MiB  2022-12-29T05:44:21Z  gs://qwiklabs-gcp-03-2d66d58a98f2-dsongcp/ch9/data/train.csv\n",
      "TOTAL: 3 objects, 898801258 bytes (857.16 MiB)\n"
     ]
    }
   ],
   "source": [
    "!gsutil ls -lh gs://{BUCKET}/ch9/data"
   ]
  },
  {
   "cell_type": "markdown",
   "id": "8dc5791c-4699-4857-984e-515bb2bf028e",
   "metadata": {},
   "source": [
    "# Task 3. Create the input data"
   ]
  },
  {
   "cell_type": "code",
   "execution_count": 9,
   "id": "2a56b3dc-47a9-4b21-9ae0-7af7089f4210",
   "metadata": {},
   "outputs": [],
   "source": [
    "DEVELOP_MODE = True\n",
    "NUM_EXAMPLES = 5000*1000\n",
    "training_data_uri = 'gs://{}/ch9/data/train*'.format(BUCKET)\n",
    "validation_data_uri = 'gs://{}/ch9/data/eval*'.format(BUCKET)\n",
    "NBUCKETS = 5\n",
    "NEMBEDS = 3\n",
    "TRAIN_BATCH_SIZE = 64\n",
    "DNN_HIDDEN_UNITS = '64,32'"
   ]
  },
  {
   "cell_type": "code",
   "execution_count": 10,
   "id": "aa9894f1-f910-4112-8eb1-fb04b4ac5270",
   "metadata": {},
   "outputs": [
    {
     "name": "stderr",
     "output_type": "stream",
     "text": [
      "2022-12-29 05:51:05.674544: I tensorflow/core/common_runtime/process_util.cc:146] Creating new thread pool with default inter op setting: 2. Tune using inter_op_parallelism_threads for best performance.\n",
      "2022-12-29 05:51:06.551656: I tensorflow/compiler/mlir/mlir_graph_optimization_pass.cc:185] None of the MLIR Optimization Passes are enabled (registered 2)\n"
     ]
    },
    {
     "name": "stdout",
     "output_type": "stream",
     "text": [
      "0 {'ontime': array([1, 1, 1, 0, 1], dtype=int32), 'dep_delay': array([-15,  10,  21,  25,  -9], dtype=int32), 'taxi_out': array([ 4, 12, 15,  3,  8], dtype=int32), 'distance': array([ 399,  936, 1056,  539, 1200], dtype=int32), 'origin': array([b'BET', b'PBI', b'HPN', b'OME', b'RSW'], dtype=object), 'dest': array([b'ANC', b'ACY', b'PBI', b'ANC', b'PVD'], dtype=object), 'dep_hour': array([17,  1, 19,  5,  0], dtype=int32), 'is_weekday': array([1, 1, 1, 0, 1], dtype=int32), 'carrier': array([b'AS', b'NK', b'B6', b'AS', b'WN'], dtype=object), 'dep_airport_lat': array([60.77861 , 26.683056, 41.066944, 64.5125  , 26.536112],\n",
      "      dtype=float32), 'dep_airport_lon': array([-161.83722,  -80.09556,  -73.7075 , -165.44444,  -81.75528],\n",
      "      dtype=float32), 'arr_airport_lat': array([61.174168, 39.4575  , 26.683056, 61.174168, 41.72389 ],\n",
      "      dtype=float32), 'arr_airport_lon': array([-149.99806 ,  -74.577225,  -80.09556 , -149.99806 ,  -71.42834 ],\n",
      "      dtype=float32)}\n",
      "1 {'ontime': array([1, 1, 1, 1, 0], dtype=int32), 'dep_delay': array([-15,  -8,  -1,  -1,  28], dtype=int32), 'taxi_out': array([ 5, 13, 17, 12,  6], dtype=int32), 'distance': array([  69,  399, 1046,  983,  201], dtype=int32), 'origin': array([b'PIB', b'ANC', b'FLL', b'BQN', b'OGG'], dtype=object), 'dest': array([b'MEI', b'BET', b'SJU', b'FLL', b'LIH'], dtype=object), 'dep_hour': array([11,  3, 17,  7, 20], dtype=int32), 'is_weekday': array([1, 0, 1, 1, 1], dtype=int32), 'carrier': array([b'EV', b'AS', b'B6', b'NK', b'HA'], dtype=object), 'dep_airport_lat': array([31.467222, 61.174168, 26.0725  , 18.494722, 20.898611],\n",
      "      dtype=float32), 'dep_airport_lon': array([ -89.336945, -149.99806 ,  -80.15278 ,  -67.12945 , -156.43056 ],\n",
      "      dtype=float32), 'arr_airport_lat': array([32.3325  , 60.77861 , 18.439444, 26.0725  , 21.97611 ],\n",
      "      dtype=float32), 'arr_airport_lon': array([ -88.751945, -161.83722 ,  -66.00222 ,  -80.15278 , -159.33888 ],\n",
      "      dtype=float32)}\n"
     ]
    }
   ],
   "source": [
    "if DEVELOP_MODE:\n",
    "    train_df = tf.data.experimental.make_csv_dataset(training_data_uri, batch_size=5)\n",
    "    for n, data in enumerate(train_df):\n",
    "        numpy_data = {k: v.numpy() for k, v in data.items()}\n",
    "        print(n, numpy_data)\n",
    "        if n==1: break"
   ]
  },
  {
   "cell_type": "code",
   "execution_count": 11,
   "id": "4c14f928-4475-4b64-bc02-d6ce0e58221f",
   "metadata": {},
   "outputs": [
    {
     "name": "stdout",
     "output_type": "stream",
     "text": [
      "Checking input pipeline\n",
      "[(OrderedDict([('dep_delay', <tf.Tensor: shape=(2,), dtype=int32, numpy=array([39, -8], dtype=int32)>), ('taxi_out', <tf.Tensor: shape=(2,), dtype=int32, numpy=array([24,  7], dtype=int32)>), ('distance', <tf.Tensor: shape=(2,), dtype=int32, numpy=array([2681,  201], dtype=int32)>), ('origin', <tf.Tensor: shape=(2,), dtype=string, numpy=array([b'OGG', b'LIH'], dtype=object)>), ('dest', <tf.Tensor: shape=(2,), dtype=string, numpy=array([b'BLI', b'OGG'], dtype=object)>), ('dep_hour', <tf.Tensor: shape=(2,), dtype=int32, numpy=array([ 1, 20], dtype=int32)>), ('is_weekday', <tf.Tensor: shape=(2,), dtype=int32, numpy=array([1, 0], dtype=int32)>), ('carrier', <tf.Tensor: shape=(2,), dtype=string, numpy=array([b'AS', b'HA'], dtype=object)>), ('dep_airport_lat', <tf.Tensor: shape=(2,), dtype=float32, numpy=array([20.898611, 21.97611 ], dtype=float32)>), ('dep_airport_lon', <tf.Tensor: shape=(2,), dtype=float32, numpy=array([-156.43056, -159.33888], dtype=float32)>), ('arr_airport_lat', <tf.Tensor: shape=(2,), dtype=float32, numpy=array([48.792778, 20.898611], dtype=float32)>), ('arr_airport_lon', <tf.Tensor: shape=(2,), dtype=float32, numpy=array([-122.5375 , -156.43056], dtype=float32)>)]), <tf.Tensor: shape=(2,), dtype=int32, numpy=array([1, 1], dtype=int32)>)]\n"
     ]
    }
   ],
   "source": [
    "def features_and_labels(features):\n",
    "  label = features.pop('ontime') \n",
    "  return features, label\n",
    "def read_dataset(pattern, batch_size, mode=tf.estimator.ModeKeys.TRAIN, truncate=None):\n",
    "  dataset = tf.data.experimental.make_csv_dataset(pattern, batch_size, num_epochs=1)\n",
    "  dataset = dataset.map(features_and_labels)\n",
    "  if mode == tf.estimator.ModeKeys.TRAIN:\n",
    "    dataset = dataset.shuffle(batch_size*10)\n",
    "    dataset = dataset.repeat()\n",
    "  dataset = dataset.prefetch(1)\n",
    "  if truncate is not None:\n",
    "    dataset = dataset.take(truncate)\n",
    "  return dataset\n",
    "if DEVELOP_MODE:\n",
    "    print(\"Checking input pipeline\")\n",
    "    one_item = read_dataset(training_data_uri, batch_size=2, truncate=1)\n",
    "    print(list(one_item)) # should print one batch of 2 items"
   ]
  },
  {
   "cell_type": "markdown",
   "id": "ac615cf1-694b-4562-8ec4-d47f6abe6474",
   "metadata": {},
   "source": [
    "# Task 4. Create, train and evaluate TensorFlow model\n"
   ]
  },
  {
   "cell_type": "code",
   "execution_count": 13,
   "id": "dc55cb74-bff9-4578-89d8-e502e5b833ff",
   "metadata": {},
   "outputs": [],
   "source": [
    "import tensorflow as tf\n",
    "real = {\n",
    "    colname : tf.feature_column.numeric_column(colname) \n",
    "          for colname in \n",
    "            (\n",
    "                'dep_delay,taxi_out,distance,dep_hour,is_weekday,' +\n",
    "                'dep_airport_lat,dep_airport_lon,' +\n",
    "                'arr_airport_lat,arr_airport_lon'\n",
    "            ).split(',')\n",
    "}\n",
    "sparse = {\n",
    "      'carrier': tf.feature_column.categorical_column_with_vocabulary_list('carrier',\n",
    "                  vocabulary_list='AS,VX,F9,UA,US,WN,HA,EV,MQ,DL,OO,B6,NK,AA'.split(',')),\n",
    "      'origin' : tf.feature_column.categorical_column_with_hash_bucket('origin', hash_bucket_size=1000),\n",
    "      'dest'   : tf.feature_column.categorical_column_with_hash_bucket('dest', hash_bucket_size=1000),\n",
    "}"
   ]
  },
  {
   "cell_type": "code",
   "execution_count": 14,
   "id": "f0822f8d-1ba8-43cc-b450-ab6c892414e5",
   "metadata": {},
   "outputs": [],
   "source": [
    "inputs = {\n",
    "    colname : tf.keras.layers.Input(name=colname, shape=(), dtype='float32') \n",
    "          for colname in real.keys()\n",
    "}\n",
    "inputs.update({\n",
    "    colname : tf.keras.layers.Input(name=colname, shape=(), dtype='string') \n",
    "          for colname in sparse.keys()\n",
    "})"
   ]
  },
  {
   "cell_type": "code",
   "execution_count": 15,
   "id": "2e6cc2f1-069a-4180-8542-3ad6ed0fe56b",
   "metadata": {},
   "outputs": [
    {
     "name": "stdout",
     "output_type": "stream",
     "text": [
      "dict_keys(['carrier', 'origin', 'dest', 'dep_loc', 'arr_loc', 'dep_arr'])\n",
      "dict_keys(['dep_delay', 'taxi_out', 'distance', 'dep_hour', 'is_weekday', 'dep_airport_lat', 'dep_airport_lon', 'arr_airport_lat', 'arr_airport_lon', 'embed_carrier', 'embed_origin', 'embed_dest', 'embed_dep_loc', 'embed_arr_loc', 'embed_dep_arr'])\n"
     ]
    }
   ],
   "source": [
    "latbuckets = np.linspace(20.0, 50.0, NBUCKETS).tolist()  # USA\n",
    "lonbuckets = np.linspace(-120.0, -70.0, NBUCKETS).tolist() # USA\n",
    "disc = {}\n",
    "disc.update({\n",
    "       'd_{}'.format(key) : tf.feature_column.bucketized_column(real[key], latbuckets) \n",
    "          for key in ['dep_airport_lat', 'arr_airport_lat']\n",
    "})\n",
    "disc.update({\n",
    "       'd_{}'.format(key) : tf.feature_column.bucketized_column(real[key], lonbuckets) \n",
    "          for key in ['dep_airport_lon', 'arr_airport_lon']\n",
    "})\n",
    "# cross columns that make sense in combination\n",
    "sparse['dep_loc'] = tf.feature_column.crossed_column(\n",
    "    [disc['d_dep_airport_lat'], disc['d_dep_airport_lon']], NBUCKETS*NBUCKETS)\n",
    "sparse['arr_loc'] = tf.feature_column.crossed_column(\n",
    "    [disc['d_arr_airport_lat'], disc['d_arr_airport_lon']], NBUCKETS*NBUCKETS)\n",
    "sparse['dep_arr'] = tf.feature_column.crossed_column([sparse['dep_loc'], sparse['arr_loc']], NBUCKETS ** 4)\n",
    "# embed all the sparse columns\n",
    "embed = {\n",
    "       'embed_{}'.format(colname) : tf.feature_column.embedding_column(col, NEMBEDS)\n",
    "          for colname, col in sparse.items()\n",
    "}\n",
    "real.update(embed)\n",
    "# one-hot encode the sparse columns\n",
    "sparse = {\n",
    "    colname : tf.feature_column.indicator_column(col)\n",
    "          for colname, col in sparse.items()\n",
    "}\n",
    "if DEVELOP_MODE:\n",
    "    print(sparse.keys())\n",
    "    print(real.keys())"
   ]
  },
  {
   "cell_type": "markdown",
   "id": "f2f6d25a-9bea-45c1-afc5-bcca19c327e6",
   "metadata": {},
   "source": [
    "## Train and evaluate the model"
   ]
  },
  {
   "cell_type": "code",
   "execution_count": 16,
   "id": "3a69f3f5-2dec-4dfb-9fc7-0481832e2d5a",
   "metadata": {},
   "outputs": [
    {
     "name": "stdout",
     "output_type": "stream",
     "text": [
      "Writing trained model to gs://qwiklabs-gcp-03-2d66d58a98f2-dsongcp/ch9/trained_model\n"
     ]
    }
   ],
   "source": [
    "output_dir='gs://{}/ch9/trained_model'.format(BUCKET)\n",
    "os.environ['OUTDIR'] = output_dir  # needed for deployment\n",
    "print('Writing trained model to {}'.format(output_dir))"
   ]
  },
  {
   "cell_type": "code",
   "execution_count": 17,
   "id": "722d7ed3-0b70-432a-8550-78a041363db6",
   "metadata": {},
   "outputs": [
    {
     "name": "stdout",
     "output_type": "stream",
     "text": [
      "CommandException: 1 files/objects could not be removed.\n"
     ]
    }
   ],
   "source": [
    "!gsutil -m rm -rf $OUTDIR"
   ]
  },
  {
   "cell_type": "code",
   "execution_count": 20,
   "id": "d18dfbd7-1dc0-464e-809b-88d131366d5f",
   "metadata": {},
   "outputs": [
    {
     "data": {
      "image/png": "[encoded data removed]",
      "text/plain": [
       "<IPython.core.display.Image object>"
      ]
     },
     "execution_count": 20,
     "metadata": {},
     "output_type": "execute_result"
    }
   ],
   "source": [
    "# Build a wide-and-deep model.\n",
    "def wide_and_deep_classifier(inputs, linear_feature_columns, dnn_feature_columns, dnn_hidden_units):\n",
    "    deep = tf.keras.layers.DenseFeatures(dnn_feature_columns, name='deep_inputs')(inputs)\n",
    "    layers = [int(x) for x in dnn_hidden_units.split(',')]\n",
    "    for layerno, numnodes in enumerate(layers):\n",
    "        deep = tf.keras.layers.Dense(numnodes, activation='relu', name='dnn_{}'.format(layerno+1))(deep)        \n",
    "    wide = tf.keras.layers.DenseFeatures(linear_feature_columns, name='wide_inputs')(inputs)\n",
    "    both = tf.keras.layers.concatenate([deep, wide], name='both')\n",
    "    output = tf.keras.layers.Dense(1, activation='sigmoid', name='pred')(both)\n",
    "    model = tf.keras.Model(inputs, output)\n",
    "    model.compile(optimizer='adam',\n",
    "                  loss='binary_crossentropy',\n",
    "                  metrics=['accuracy'])\n",
    "    return model\n",
    "    \n",
    "model = wide_and_deep_classifier(\n",
    "    inputs,\n",
    "    linear_feature_columns = sparse.values(),\n",
    "    dnn_feature_columns = real.values(),\n",
    "    dnn_hidden_units = DNN_HIDDEN_UNITS)\n",
    "tf.keras.utils.plot_model(model, 'flights_model.png', show_shapes=False, rankdir='LR')"
   ]
  },
  {
   "cell_type": "code",
   "execution_count": 21,
   "id": "6ab9c0e3-f929-421f-97bb-8133c36116ae",
   "metadata": {},
   "outputs": [
    {
     "name": "stdout",
     "output_type": "stream",
     "text": [
      "Epoch 1/2\n",
      "3/3 [==============================] - 14s 5s/step - loss: 1.8716 - accuracy: 0.8073 - val_loss: 1.5314 - val_accuracy: 0.8148\n",
      "\n",
      "Epoch 00001: saving model to gs://qwiklabs-gcp-03-2d66d58a98f2-dsongcp/ch9/trained_model/checkpoints/flights.cpt\n",
      "Epoch 2/2\n",
      "3/3 [==============================] - 8s 4s/step - loss: 1.0656 - accuracy: 0.8073 - val_loss: 0.6512 - val_accuracy: 0.6618\n",
      "\n",
      "Epoch 00002: saving model to gs://qwiklabs-gcp-03-2d66d58a98f2-dsongcp/ch9/trained_model/checkpoints/flights.cpt\n"
     ]
    }
   ],
   "source": [
    "# training and evaluation dataset\n",
    "train_batch_size = TRAIN_BATCH_SIZE\n",
    "if DEVELOP_MODE:\n",
    "    eval_batch_size = 100\n",
    "    steps_per_epoch = 3\n",
    "    epochs = 2\n",
    "    num_eval_examples = eval_batch_size*10\n",
    "else:\n",
    "    eval_batch_size = 100\n",
    "    steps_per_epoch = NUM_EXAMPLES // train_batch_size\n",
    "    epochs = 10\n",
    "    num_eval_examples = eval_batch_size * 100\n",
    "train_dataset = read_dataset(training_data_uri, train_batch_size)\n",
    "eval_dataset = read_dataset(validation_data_uri, eval_batch_size, tf.estimator.ModeKeys.EVAL, num_eval_examples)\n",
    "checkpoint_path = '{}/checkpoints/flights.cpt'.format(output_dir)\n",
    "shutil.rmtree(checkpoint_path, ignore_errors=True)\n",
    "cp_callback = tf.keras.callbacks.ModelCheckpoint(checkpoint_path, \n",
    "                                                 save_weights_only=True,\n",
    "                                                 verbose=1)\n",
    "history = model.fit(train_dataset, \n",
    "                    validation_data=eval_dataset,\n",
    "                    epochs=epochs, \n",
    "                    steps_per_epoch=steps_per_epoch,\n",
    "                    callbacks=[cp_callback])"
   ]
  },
  {
   "cell_type": "code",
   "execution_count": 22,
   "id": "212178d3-73a1-4b6b-a086-8574a036ceb6",
   "metadata": {},
   "outputs": [
    {
     "data": {
      "image/png": "[encoded data removed]",
      "text/plain": [
       "<Figure size 1000x500 with 2 Axes>"
      ]
     },
     "metadata": {},
     "output_type": "display_data"
    }
   ],
   "source": [
    "import matplotlib.pyplot as plt\n",
    "nrows = 1\n",
    "ncols = 2\n",
    "fig = plt.figure(figsize=(10, 5))\n",
    "for idx, key in enumerate(['loss', 'accuracy']):\n",
    "    ax = fig.add_subplot(nrows, ncols, idx+1)\n",
    "    plt.plot(history.history[key])\n",
    "    plt.plot(history.history['val_{}'.format(key)])\n",
    "    plt.title('model {}'.format(key))\n",
    "    plt.ylabel(key)\n",
    "    plt.xlabel('epoch')\n",
    "    plt.legend(['train', 'validation'], loc='upper left');"
   ]
  },
  {
   "cell_type": "code",
   "execution_count": 23,
   "id": "0946d458-dad5-4e91-9aa0-864069c05815",
   "metadata": {},
   "outputs": [
    {
     "name": "stdout",
     "output_type": "stream",
     "text": [
      "Exporting to gs://qwiklabs-gcp-03-2d66d58a98f2-dsongcp/ch9/trained_model/export/flights_20221229-055704\n"
     ]
    },
    {
     "name": "stderr",
     "output_type": "stream",
     "text": [
      "2022-12-29 05:57:07.363561: W tensorflow/python/util/util.cc:348] Sets are not currently considered sequences, but this may change in the future, so consider avoiding using them.\n"
     ]
    },
    {
     "name": "stdout",
     "output_type": "stream",
     "text": [
      "INFO:tensorflow:Assets written to: gs://qwiklabs-gcp-03-2d66d58a98f2-dsongcp/ch9/trained_model/export/flights_20221229-055704/assets\n"
     ]
    }
   ],
   "source": [
    "import time\n",
    "export_dir = '{}/export/flights_{}'.format(output_dir, time.strftime(\"%Y%m%d-%H%M%S\"))\n",
    "print('Exporting to {}'.format(export_dir))\n",
    "tf.saved_model.save(model, export_dir)"
   ]
  },
  {
   "cell_type": "markdown",
   "id": "c0df05c6-341f-4d6f-9de0-be6fee134ee2",
   "metadata": {},
   "source": [
    "# Task 5. Deploy flights model to Vertex AI"
   ]
  },
  {
   "cell_type": "code",
   "execution_count": 24,
   "id": "d3f7fd9b-534e-46f4-af79-7df94163c23a",
   "metadata": {},
   "outputs": [
    {
     "name": "stdout",
     "output_type": "stream",
     "text": [
      "gs://qwiklabs-gcp-03-2d66d58a98f2-dsongcp/ch9/trained_model/export/flights_20221229-055704/\n",
      "Creating Endpoint for flights-20221229-055804\n",
      "ENDPOINT_ID=5828102120515043328\n",
      "MODEL_ID=4941893549504331776\n"
     ]
    },
    {
     "name": "stderr",
     "output_type": "stream",
     "text": [
      "Using endpoint [https://us-central1-aiplatform.googleapis.com/]\n",
      "WARNING: The following filter keys were not present in any resource : display_name\n",
      "Using endpoint [https://us-central1-aiplatform.googleapis.com/]\n",
      "Waiting for operation [8768542902948200448]...\n",
      ".......................................................................................................................................................................................................................................................................................................................................................................................................................................................................................................................................................................................................................................................................................................................................................................done.\n",
      "Created Vertex AI endpoint: projects/277513363267/locations/us-central1/endpoints/5828102120515043328.\n",
      "Using endpoint [https://us-central1-aiplatform.googleapis.com/]\n",
      "Using endpoint [https://us-central1-aiplatform.googleapis.com/]\n",
      "WARNING: The following filter keys were not present in any resource : display_name\n",
      "Using endpoint [https://us-central1-aiplatform.googleapis.com/]\n",
      "Waiting for operation [3392370847774670848]...\n",
      "................................................................................................done.\n",
      "Using endpoint [https://us-central1-aiplatform.googleapis.com/]\n",
      "Using endpoint [https://us-central1-aiplatform.googleapis.com/]\n",
      "Waiting for operation [7418588914643894272]...\n",
      ".....................................................................................................................................................................................................................................................................................................................................................................................................................................................................................................................................................................................................................................................................................................................................................................................................................................................................................................................................................................................................................................................................................................................................................................................................................................................................................................................................................................................................................................................................................................................................................................................................................................................................................................................................................................................................................................................................................................................................................................................................................................................................................................................................................................................................................................................................................................................................................................................................................................................................................................................................................................................................................................................................................................................................................................................................................................................................................................................................................................................................................................................................................................................................................................................................................................................................................................................................................................................................................................................................................................................................................................................................................................................................................................................................................................................................................................................done.\n",
      "Deployed a model to the endpoint 5828102120515043328. Id of the deployed model: 2930343623557906432.\n"
     ]
    }
   ],
   "source": [
    "%%bash\n",
    "# note TF_VERSION and ENDPOINT_NAME set in 1st cell\n",
    "# TF_VERSION=2-6\n",
    "# ENDPOINT_NAME=flights\n",
    "TIMESTAMP=$(date +%Y%m%d-%H%M%S)\n",
    "MODEL_NAME=${ENDPOINT_NAME}-${TIMESTAMP}\n",
    "EXPORT_PATH=$(gsutil ls ${OUTDIR}/export | tail -1)\n",
    "echo $EXPORT_PATH\n",
    "# create the model endpoint for deploying the model\n",
    "if [[ $(gcloud beta ai endpoints list --region=$REGION \\\n",
    "        --format='value(DISPLAY_NAME)' --filter=display_name=${ENDPOINT_NAME}) ]]; then\n",
    "    echo \"Endpoint for $MODEL_NAME already exists\"\n",
    "else\n",
    "    echo \"Creating Endpoint for $MODEL_NAME\"\n",
    "    gcloud beta ai endpoints create --region=${REGION} --display-name=${ENDPOINT_NAME}\n",
    "fi\n",
    "ENDPOINT_ID=$(gcloud beta ai endpoints list --region=$REGION \\\n",
    "              --format='value(ENDPOINT_ID)' --filter=display_name=${ENDPOINT_NAME})\n",
    "echo \"ENDPOINT_ID=$ENDPOINT_ID\"\n",
    "# delete any existing models with this name\n",
    "for MODEL_ID in $(gcloud beta ai models list --region=$REGION --format='value(MODEL_ID)' --filter=display_name=${MODEL_NAME}); do\n",
    "    echo \"Deleting existing $MODEL_NAME ... $MODEL_ID \"\n",
    "    gcloud ai models delete --region=$REGION $MODEL_ID\n",
    "done\n",
    "# create the model using the parameters docker conatiner image and artifact uri\n",
    "gcloud beta ai models upload --region=$REGION --display-name=$MODEL_NAME \\\n",
    "     --container-image-uri=us-docker.pkg.dev/vertex-ai/prediction/tf2-cpu.${TF_VERSION}:latest \\\n",
    "     --artifact-uri=$EXPORT_PATH\n",
    "MODEL_ID=$(gcloud beta ai models list --region=$REGION --format='value(MODEL_ID)' --filter=display_name=${MODEL_NAME})\n",
    "echo \"MODEL_ID=$MODEL_ID\"\n",
    "# deploy the model to the endpoint\n",
    "gcloud beta ai endpoints deploy-model $ENDPOINT_ID \\\n",
    "  --region=$REGION \\\n",
    "  --model=$MODEL_ID \\\n",
    "  --display-name=$MODEL_NAME \\\n",
    "  --machine-type=n1-standard-2 \\\n",
    "  --min-replica-count=1 \\\n",
    "  --max-replica-count=1 \\\n",
    "  --traffic-split=0=100"
   ]
  },
  {
   "cell_type": "code",
   "execution_count": 25,
   "id": "4a6b250b-10b1-45b5-831f-f5b6e98af277",
   "metadata": {},
   "outputs": [
    {
     "name": "stdout",
     "output_type": "stream",
     "text": [
      "Writing example_input.json\n"
     ]
    }
   ],
   "source": [
    "%%writefile example_input.json\n",
    "{\"instances\": [\n",
    "  {\"dep_hour\": 2, \"is_weekday\": 1, \"dep_delay\": 40, \"taxi_out\": 17, \"distance\": 41, \"carrier\": \"AS\", \"dep_airport_lat\": 58.42527778, \"dep_airport_lon\": -135.7075, \"arr_airport_lat\": 58.35472222, \"arr_airport_lon\": -134.57472222, \"origin\": \"GST\", \"dest\": \"JNU\"},\n",
    "  {\"dep_hour\": 22, \"is_weekday\": 0, \"dep_delay\": -7, \"taxi_out\": 7, \"distance\": 201, \"carrier\": \"HA\", \"dep_airport_lat\": 21.97611111, \"dep_airport_lon\": -159.33888889, \"arr_airport_lat\": 20.89861111, \"arr_airport_lon\": -156.43055556, \"origin\": \"LIH\", \"dest\": \"OGG\"}\n",
    "]}"
   ]
  },
  {
   "cell_type": "code",
   "execution_count": 26,
   "id": "e14d43d2-e6bc-4c64-983e-8cabf50976da",
   "metadata": {},
   "outputs": [
    {
     "name": "stdout",
     "output_type": "stream",
     "text": [
      "5828102120515043328\n",
      "[[0.0601700842], [0.555366337]]\n"
     ]
    },
    {
     "name": "stderr",
     "output_type": "stream",
     "text": [
      "Using endpoint [https://us-central1-aiplatform.googleapis.com/]\n",
      "Using endpoint [https://us-central1-prediction-aiplatform.googleapis.com/]\n"
     ]
    }
   ],
   "source": [
    "%%bash\n",
    "ENDPOINT_ID=$(gcloud beta ai endpoints list --region=$REGION \\\n",
    "              --format='value(ENDPOINT_ID)' --filter=display_name=${ENDPOINT_NAME})\n",
    "echo $ENDPOINT_ID\n",
    "gcloud beta ai endpoints predict $ENDPOINT_ID --region=$REGION --json-request=example_input.json"
   ]
  },
  {
   "cell_type": "code",
   "execution_count": 27,
   "id": "ebcc2008-9037-4b6e-a5eb-324004ff0806",
   "metadata": {},
   "outputs": [
    {
     "name": "stdout",
     "output_type": "stream",
     "text": [
      "{\n",
      "  \"predictions\": [\n",
      "    [\n",
      "      0.0601700842\n",
      "    ],\n",
      "    [\n",
      "      0.555366337\n",
      "    ]\n",
      "  ],\n",
      "  \"deployedModelId\": \"2930343623557906432\",\n",
      "  \"model\": \"projects/277513363267/locations/us-central1/models/4941893549504331776\",\n",
      "  \"modelDisplayName\": \"flights-20221229-055804\",\n",
      "  \"modelVersionId\": \"1\"\n",
      "}\n"
     ]
    },
    {
     "name": "stderr",
     "output_type": "stream",
     "text": [
      "Using endpoint [https://us-central1-aiplatform.googleapis.com/]\n",
      "  % Total    % Received % Xferd  Average Speed   Time    Time     Time  Current\n",
      "                                 Dload  Upload   Total   Spent    Left  Speed\n",
      "100   835    0   292  100   543   3297   6131 --:--:-- --:--:-- --:--:--  9488\n"
     ]
    }
   ],
   "source": [
    "%%bash\n",
    "PROJECT=$(gcloud config get-value project)\n",
    "ENDPOINT_ID=$(gcloud beta ai endpoints list --region=$REGION \\\n",
    "              --format='value(ENDPOINT_ID)' --filter=display_name=${ENDPOINT_NAME})\n",
    "curl -X POST \\\n",
    "  -H \"Authorization: Bearer \"$(gcloud auth application-default print-access-token) \\\n",
    "  -H \"Content-Type: application/json; charset=utf-8\" \\\n",
    "  -d @example_input.json \\\n",
    "  \"https://${REGION}-aiplatform.googleapis.com/v1/projects/${PROJECT}/locations/${REGION}/endpoints/${ENDPOINT_ID}:predict\""
   ]
  },
  {
   "cell_type": "markdown",
   "id": "b5df4822-4656-48a4-99d7-1950304e7167",
   "metadata": {},
   "source": [
    "# Task 6. Model explainability"
   ]
  },
  {
   "cell_type": "code",
   "execution_count": 28,
   "id": "5f62f77e-fd77-436d-b02b-9fd658ae57cc",
   "metadata": {},
   "outputs": [
    {
     "name": "stdout",
     "output_type": "stream",
     "text": [
      "gs://qwiklabs-gcp-03-2d66d58a98f2-dsongcp/ch9/trained_model/export/flights_20221229-055704/\n",
      "The given SavedModel SignatureDef contains the following input(s):\n",
      "  inputs['arr_airport_lat'] tensor_info:\n",
      "      dtype: DT_FLOAT\n",
      "      shape: (-1)\n",
      "      name: serving_default_arr_airport_lat:0\n",
      "  inputs['arr_airport_lon'] tensor_info:\n",
      "      dtype: DT_FLOAT\n",
      "      shape: (-1)\n",
      "      name: serving_default_arr_airport_lon:0\n",
      "  inputs['carrier'] tensor_info:\n",
      "      dtype: DT_STRING\n",
      "      shape: (-1)\n",
      "      name: serving_default_carrier:0\n",
      "  inputs['dep_airport_lat'] tensor_info:\n",
      "      dtype: DT_FLOAT\n",
      "      shape: (-1)\n",
      "      name: serving_default_dep_airport_lat:0\n",
      "  inputs['dep_airport_lon'] tensor_info:\n",
      "      dtype: DT_FLOAT\n",
      "      shape: (-1)\n",
      "      name: serving_default_dep_airport_lon:0\n",
      "  inputs['dep_delay'] tensor_info:\n",
      "      dtype: DT_FLOAT\n",
      "      shape: (-1)\n",
      "      name: serving_default_dep_delay:0\n",
      "  inputs['dep_hour'] tensor_info:\n",
      "      dtype: DT_FLOAT\n",
      "      shape: (-1)\n",
      "      name: serving_default_dep_hour:0\n",
      "  inputs['dest'] tensor_info:\n",
      "      dtype: DT_STRING\n",
      "      shape: (-1)\n",
      "      name: serving_default_dest:0\n",
      "  inputs['distance'] tensor_info:\n",
      "      dtype: DT_FLOAT\n",
      "      shape: (-1)\n",
      "      name: serving_default_distance:0\n",
      "  inputs['is_weekday'] tensor_info:\n",
      "      dtype: DT_FLOAT\n",
      "      shape: (-1)\n",
      "      name: serving_default_is_weekday:0\n",
      "  inputs['origin'] tensor_info:\n",
      "      dtype: DT_STRING\n",
      "      shape: (-1)\n",
      "      name: serving_default_origin:0\n",
      "  inputs['taxi_out'] tensor_info:\n",
      "      dtype: DT_FLOAT\n",
      "      shape: (-1)\n",
      "      name: serving_default_taxi_out:0\n",
      "The given SavedModel SignatureDef contains the following output(s):\n",
      "  outputs['pred'] tensor_info:\n",
      "      dtype: DT_FLOAT\n",
      "      shape: (-1, 1)\n",
      "      name: StatefulPartitionedCall_2:0\n",
      "Method name is: tensorflow/serving/predict\n"
     ]
    }
   ],
   "source": [
    "%%bash\n",
    "model_dir=$(gsutil ls ${OUTDIR}/export | tail -1)\n",
    "echo $model_dir\n",
    "saved_model_cli show --tag_set serve --signature_def serving_default --dir $model_dir"
   ]
  },
  {
   "cell_type": "code",
   "execution_count": 29,
   "id": "f4f340f3-4055-473e-a3b5-048398ec3254",
   "metadata": {},
   "outputs": [
    {
     "name": "stdout",
     "output_type": "stream",
     "text": [
      "{'inputs': {'dep_delay': {'inputTensorName': 'dep_delay'}, 'taxi_out': {'inputTensorName': 'taxi_out'}, 'distance': {'inputTensorName': 'distance'}, 'dep_hour': {'inputTensorName': 'dep_hour'}, 'is_weekday': {'inputTensorName': 'is_weekday'}, 'dep_airport_lat': {'inputTensorName': 'dep_airport_lat'}, 'dep_airport_lon': {'inputTensorName': 'dep_airport_lon'}, 'arr_airport_lat': {'inputTensorName': 'arr_airport_lat'}, 'arr_airport_lon': {'inputTensorName': 'arr_airport_lon'}, 'carrier': {'inputTensorName': 'carrier'}, 'origin': {'inputTensorName': 'origin'}, 'dest': {'inputTensorName': 'dest'}}, 'outputs': {'pred': {'outputTensorName': 'pred'}}}\n"
     ]
    }
   ],
   "source": [
    "cols = ('dep_delay,taxi_out,distance,dep_hour,is_weekday,' +\n",
    "        'dep_airport_lat,dep_airport_lon,' +\n",
    "        'arr_airport_lat,arr_airport_lon,' +\n",
    "        'carrier,origin,dest')\n",
    "inputs = {x: {\"inputTensorName\": \"{}\".format(x)} \n",
    "        for x in cols.split(',')}\n",
    "expl = {\n",
    "    \"inputs\": inputs,\n",
    "    \"outputs\": {\n",
    "    \"pred\": {\n",
    "      \"outputTensorName\": \"pred\"\n",
    "    }\n",
    "  }\n",
    "}\n",
    "print(expl)\n",
    "with open('explanation-metadata.json', 'w') as ofp:\n",
    "    json.dump(expl, ofp, indent=2)"
   ]
  },
  {
   "cell_type": "code",
   "execution_count": 30,
   "id": "0fceda52-f80c-4b2c-8af1-ced653dcc3d2",
   "metadata": {},
   "outputs": [
    {
     "name": "stdout",
     "output_type": "stream",
     "text": [
      "{\n",
      "  \"inputs\": {\n",
      "    \"dep_delay\": {\n",
      "      \"inputTensorName\": \"dep_delay\"\n",
      "    },\n",
      "    \"taxi_out\": {\n",
      "      \"inputTensorName\": \"taxi_out\"\n",
      "    },\n",
      "    \"distance\": {\n",
      "      \"inputTensorName\": \"distance\"\n",
      "    },\n",
      "    \"dep_hour\": {\n",
      "      \"inputTensorName\": \"dep_hour\"\n",
      "    },\n",
      "    \"is_weekday\": {\n",
      "      \"inputTensorName\": \"is_weekday\"\n",
      "    },\n",
      "    \"dep_airport_lat\": {\n",
      "      \"inputTensorName\": \"dep_airport_lat\"\n",
      "    },\n",
      "    \"dep_airport_lon\": {\n",
      "      \"inputTensorName\": \"dep_airport_lon\"\n",
      "    },\n",
      "    \"arr_airport_lat\": {\n",
      "      \"inputTensorName\": \"arr_airport_lat\"\n",
      "    },\n",
      "    \"arr_airport_lon\": {\n",
      "      \"inputTensorName\": \"arr_airport_lon\"\n",
      "    },\n",
      "    \"carrier\": {\n",
      "      \"inputTensorName\": \"carrier\"\n",
      "    },\n",
      "    \"origin\": {\n",
      "      \"inputTensorName\": \"origin\"\n",
      "    },\n",
      "    \"dest\": {\n",
      "      \"inputTensorName\": \"dest\"\n",
      "    }\n",
      "  },\n",
      "  \"outputs\": {\n",
      "    \"pred\": {\n",
      "      \"outputTensorName\": \"pred\"\n",
      "    }\n",
      "  }\n",
      "}"
     ]
    }
   ],
   "source": [
    "!cat explanation-metadata.json"
   ]
  },
  {
   "cell_type": "code",
   "execution_count": 31,
   "id": "c9fed412-c56d-440e-b17e-2eac1a2f6289",
   "metadata": {},
   "outputs": [
    {
     "name": "stdout",
     "output_type": "stream",
     "text": [
      "gs://qwiklabs-gcp-03-2d66d58a98f2-dsongcp/ch9/trained_model/export/flights_20221229-055704/\n",
      "Creating Endpoint for flights_xai-20221229-061605\n",
      "ENDPOINT_ID=4123771136532021248\n",
      "MODEL_ID=1415012091319812096\n"
     ]
    },
    {
     "name": "stderr",
     "output_type": "stream",
     "text": [
      "Using endpoint [https://us-central1-aiplatform.googleapis.com/]\n",
      "Using endpoint [https://us-central1-aiplatform.googleapis.com/]\n",
      "Waiting for operation [3773998139636187136]...\n",
      "...................done.\n",
      "Created Vertex AI endpoint: projects/277513363267/locations/us-central1/endpoints/4123771136532021248.\n",
      "Using endpoint [https://us-central1-aiplatform.googleapis.com/]\n",
      "Using endpoint [https://us-central1-aiplatform.googleapis.com/]\n",
      "Using endpoint [https://us-central1-aiplatform.googleapis.com/]\n",
      "Waiting for operation [3849486209952776192]...\n",
      "........................................................................................................................................................................................................................................................................................................................................................................................................................................................................................................................................................................................................................................................................................................................................................................................................................................................................................................................................................................................................................................................................................done.\n",
      "Using endpoint [https://us-central1-aiplatform.googleapis.com/]\n",
      "Using endpoint [https://us-central1-aiplatform.googleapis.com/]\n",
      "Waiting for operation [4410184363560402944]...\n",
      "..............................................................................................................................................................................................................................................................................................................................................................................................................................................................................................................................................................................................................................................................................................................................................................................................................................................................................................................................................................................................................................................................................................................................................................................................................................................................................................................................................................................................................................................................................................done.\n",
      "Deployed a model to the endpoint 4123771136532021248. Id of the deployed model: 739342404842160128.\n"
     ]
    }
   ],
   "source": [
    "%%bash\n",
    "# note TF_VERSION set in 1st cell, but ENDPOINT_NAME is being changed\n",
    "# TF_VERSION=2-6\n",
    "ENDPOINT_NAME=flights_xai\n",
    "TIMESTAMP=$(date +%Y%m%d-%H%M%S)\n",
    "MODEL_NAME=${ENDPOINT_NAME}-${TIMESTAMP}\n",
    "EXPORT_PATH=$(gsutil ls ${OUTDIR}/export | tail -1)\n",
    "echo $EXPORT_PATH\n",
    "# create the model endpoint for deploying the model\n",
    "if [[ $(gcloud beta ai endpoints list --region=$REGION \\\n",
    "        --format='value(DISPLAY_NAME)' --filter=display_name=${ENDPOINT_NAME}) ]]; then\n",
    "    echo \"Endpoint for $MODEL_NAME already exists\"\n",
    "else\n",
    "    # create model endpoint\n",
    "    echo \"Creating Endpoint for $MODEL_NAME\"\n",
    "    gcloud beta ai endpoints create --region=${REGION} --display-name=${ENDPOINT_NAME}\n",
    "fi\n",
    "ENDPOINT_ID=$(gcloud beta ai endpoints list --region=$REGION \\\n",
    "              --format='value(ENDPOINT_ID)' --filter=display_name=${ENDPOINT_NAME})\n",
    "echo \"ENDPOINT_ID=$ENDPOINT_ID\"\n",
    "# delete any existing models with this name\n",
    "for MODEL_ID in $(gcloud beta ai models list --region=$REGION --format='value(MODEL_ID)' --filter=display_name=${MODEL_NAME}); do\n",
    "    echo \"Deleting existing $MODEL_NAME ... $MODEL_ID \"\n",
    "    gcloud ai models delete --region=$REGION $MODEL_ID\n",
    "done\n",
    "# upload the model using the parameters docker conatiner image, artifact URI, explanation method, \n",
    "# explanation path count and explanation metadata JSON file `explanation-metadata.json`. \n",
    "# Here, you keep number of feature permutations to `10` when approximating the Shapley values for explanation.\n",
    "gcloud beta ai models upload --region=$REGION --display-name=$MODEL_NAME \\\n",
    "     --container-image-uri=us-docker.pkg.dev/vertex-ai/prediction/tf2-cpu.${TF_VERSION}:latest \\\n",
    "     --artifact-uri=$EXPORT_PATH \\\n",
    "     --explanation-method=sampled-shapley --explanation-path-count=10 --explanation-metadata-file=explanation-metadata.json\n",
    "MODEL_ID=$(gcloud beta ai models list --region=$REGION --format='value(MODEL_ID)' --filter=display_name=${MODEL_NAME})\n",
    "echo \"MODEL_ID=$MODEL_ID\"\n",
    "# deploy the model to the endpoint\n",
    "gcloud beta ai endpoints deploy-model $ENDPOINT_ID \\\n",
    "  --region=$REGION \\\n",
    "  --model=$MODEL_ID \\\n",
    "  --display-name=$MODEL_NAME \\\n",
    "  --machine-type=n1-standard-2 \\\n",
    "  --min-replica-count=1 \\\n",
    "  --max-replica-count=1 \\\n",
    "  --traffic-split=0=100"
   ]
  },
  {
   "cell_type": "code",
   "execution_count": 40,
   "id": "68be06ea-45fe-43c4-9a21-7d535237bc7a",
   "metadata": {},
   "outputs": [
    {
     "name": "stdout",
     "output_type": "stream",
     "text": [
      "{\n",
      "  \"error\": {\n",
      "    \"code\": 400,\n",
      "    \"message\": \"Empty instances.\",\n",
      "    \"status\": \"INVALID_ARGUMENT\"\n",
      "  }\n",
      "}\n"
     ]
    },
    {
     "name": "stderr",
     "output_type": "stream",
     "text": [
      "Using endpoint [https://us-central1-aiplatform.googleapis.com/]\n",
      "Warning: Couldn't read data from file \"example_input.json\", this makes an \n",
      "Warning: empty POST.\n",
      "  % Total    % Received % Xferd  Average Speed   Time    Time     Time  Current\n",
      "                                 Dload  Upload   Total   Spent    Left  Speed\n",
      "100   106    0   106    0     0   1419      0 --:--:-- --:--:-- --:--:--  1432\n"
     ]
    }
   ],
   "source": [
    "%%bash\n",
    "PROJECT=$(gcloud config get-value project)\n",
    "ENDPOINT_NAME=flights_xai\n",
    "ENDPOINT_ID=$(gcloud beta ai endpoints list --region=$REGION \\\n",
    "              --format='value(ENDPOINT_ID)' --filter=display_name=${ENDPOINT_NAME})\n",
    "curl -X POST \\\n",
    "  -H \"Authorization: Bearer \"$(gcloud auth application-default print-access-token) \\\n",
    "  -H \"Content-Type: application/json; charset=utf-8\" \\\n",
    "  -d @example_input.json \\\n",
    "  \"https://${REGION}-aiplatform.googleapis.com/v1/projects/${PROJECT}/locations/${REGION}/endpoints/${ENDPOINT_ID}:explain\""
   ]
  },
  {
   "cell_type": "code",
   "execution_count": 36,
   "id": "f2e23f5e-a768-4576-a6c9-9a38d8a46fee",
   "metadata": {},
   "outputs": [
    {
     "name": "stdout",
     "output_type": "stream",
     "text": [
      "qwiklabs-gcp-03-2d66d58a98f2\n"
     ]
    }
   ],
   "source": [
    "!gcloud config get-value project"
   ]
  },
  {
   "cell_type": "code",
   "execution_count": 38,
   "id": "d8960cf9-99c0-461b-8fdc-e1963a9db536",
   "metadata": {},
   "outputs": [
    {
     "name": "stdout",
     "output_type": "stream",
     "text": [
      "flights\n"
     ]
    }
   ],
   "source": [
    "!echo $ENDPOINT_NAME"
   ]
  },
  {
   "cell_type": "code",
   "execution_count": 39,
   "id": "a0e7fa05-5086-4f0c-bdbd-af65db91cfb2",
   "metadata": {},
   "outputs": [
    {
     "name": "stdout",
     "output_type": "stream",
     "text": [
      "ya29.c.b0AT7lpjACu7alDEDIWuVTrroncv1l3sBfHzPs_KoFMkwwW78CWg5Y6Il9W7S8-UfgCqpEJOv_VW_xPLRQbYdrzAZgxkZig4TGlSlYY_tu7lhYDaN4NXGY54bJah_zuXCr24XFhOn-K6WYra8z3zgnAzE-VGv0JPo89G569Z6rSZAEqdHdAmFdQBbf3f5RomJ3tMdC-Ghsma0............................................................................................................................................................................................................................................................................................................................................................................................................................................................................................................................................................................................................................................................................................................................................................................................................................................\n"
     ]
    }
   ],
   "source": [
    "!gcloud auth application-default print-access-token"
   ]
  },
  {
   "cell_type": "code",
   "execution_count": null,
   "id": "a87fabcd-ebfa-4330-9488-0fd795984c5c",
   "metadata": {},
   "outputs": [],
   "source": []
  }
 ],
 "metadata": {
  "environment": {
   "kernel": "python3",
   "name": "tf2-gpu.2-6.m102",
   "type": "gcloud",
   "uri": "gcr.io/deeplearning-platform-release/tf2-gpu.2-6:m102"
  },
  "kernelspec": {
   "display_name": "Python 3 (ipykernel)",
   "language": "python",
   "name": "python3"
  },
  "language_info": {
   "codemirror_mode": {
    "name": "ipython",
    "version": 3
   },
   "file_extension": ".py",
   "mimetype": "text/x-python",
   "name": "python",
   "nbconvert_exporter": "python",
   "pygments_lexer": "ipython3",
   "version": "3.7.12"
  }
 },
 "nbformat": 4,
 "nbformat_minor": 5
}
